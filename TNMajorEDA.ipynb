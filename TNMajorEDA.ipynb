{
  "cells": [
    {
      "cell_type": "markdown",
      "metadata": {
        "id": "view-in-github",
        "colab_type": "text"
      },
      "source": [
        "<a href=\"https://colab.research.google.com/github/indukrishna572/literate-broccoli/blob/main/TNMajorEDA.ipynb\" target=\"_parent\"><img src=\"https://colab.research.google.com/assets/colab-badge.svg\" alt=\"Open In Colab\"/></a>"
      ]
    },
    {
      "cell_type": "code",
      "execution_count": null,
      "metadata": {
        "id": "YElmt76N39XJ"
      },
      "outputs": [],
      "source": [
        "# importing all the necessary dependencies\n",
        "# utilities\n",
        "import re\n",
        "import nltk\n",
        "import numpy as np\n",
        "import pandas as pd\n",
        "# plotting\n",
        "import seaborn as sns\n",
        "from wordcloud import WordCloud\n",
        "import matplotlib.pyplot as plt\n",
        "#tensorflow\n",
        "from tensorflow.keras.preprocessing.text import Tokenizer\n",
        "from tensorflow.keras.layers import LSTM, Activation, Dense, Dropout, Input, Embedding\n",
        "from tensorflow.keras.models import Model\n",
        "from tensorflow.keras.optimizers import RMSprop\n",
        "from tensorflow.keras.preprocessing import sequence\n",
        "# nltk\n",
        "from nltk.stem import WordNetLemmatizer\n",
        "# sklearn\n",
        "from sklearn.svm import LinearSVC\n",
        "from sklearn.naive_bayes import BernoulliNB\n",
        "from sklearn.linear_model import LogisticRegression\n",
        "from sklearn.model_selection import train_test_split\n",
        "from sklearn.feature_extraction.text import TfidfVectorizer\n",
        "from sklearn.metrics import confusion_matrix, classification_report"
      ]
    },
    {
      "cell_type": "code",
      "execution_count": null,
      "metadata": {
        "colab": {
          "base_uri": "https://localhost:8080/",
          "height": 275
        },
        "id": "xKkNx9Y36mLB",
        "outputId": "aabe5ca1-ce4e-482c-e7d1-625e3397caa9"
      },
      "outputs": [
        {
          "output_type": "stream",
          "name": "stderr",
          "text": [
            "<ipython-input-19-5f6e70a3e349>:4: FutureWarning: The error_bad_lines argument has been deprecated and will be removed in a future version. Use on_bad_lines in the future.\n",
            "\n",
            "\n",
            "  data = pd.read_csv('/content/training.1600000.processed.noemoticon.csv', engine = 'python',encoding= data_encoding, names=data_columns, error_bad_lines=False)\n"
          ]
        },
        {
          "output_type": "execute_result",
          "data": {
            "text/plain": [
              "        target         ids                          date      flag  \\\n",
              "82772        0  1753161242  Sun May 10 00:22:53 PDT 2009  NO_QUERY   \n",
              "13626        0  1553330429  Sat Apr 18 13:58:49 PDT 2009  NO_QUERY   \n",
              "86697        0  1754201008  Sun May 10 05:23:29 PDT 2009  NO_QUERY   \n",
              "197273       0  1970967780  Sat May 30 05:49:04 PDT 2009  NO_QUERY   \n",
              "161436       0  1957303737  Fri May 29 00:06:03 PDT 2009  NO_QUERY   \n",
              "\n",
              "                  user                                               text  \n",
              "82772      jennarathke                            Last night at the 7207   \n",
              "13626   XFaintheartedX  @iamjonathancook  Oh. Well, why would they do ...  \n",
              "86697       alecrivera  will be sad from Tuesday (May 12, 2009) until ...  \n",
              "197273     Elliethinks  @hayleycoll i was while i was showering but it...  \n",
              "161436   AnniesBangkok  Today is going to be a normal day for I hope. ...  "
            ],
            "text/html": [
              "\n",
              "  <div id=\"df-b3cd6e40-e5ee-49a9-96f8-c23993e3b7b2\">\n",
              "    <div class=\"colab-df-container\">\n",
              "      <div>\n",
              "<style scoped>\n",
              "    .dataframe tbody tr th:only-of-type {\n",
              "        vertical-align: middle;\n",
              "    }\n",
              "\n",
              "    .dataframe tbody tr th {\n",
              "        vertical-align: top;\n",
              "    }\n",
              "\n",
              "    .dataframe thead th {\n",
              "        text-align: right;\n",
              "    }\n",
              "</style>\n",
              "<table border=\"1\" class=\"dataframe\">\n",
              "  <thead>\n",
              "    <tr style=\"text-align: right;\">\n",
              "      <th></th>\n",
              "      <th>target</th>\n",
              "      <th>ids</th>\n",
              "      <th>date</th>\n",
              "      <th>flag</th>\n",
              "      <th>user</th>\n",
              "      <th>text</th>\n",
              "    </tr>\n",
              "  </thead>\n",
              "  <tbody>\n",
              "    <tr>\n",
              "      <th>82772</th>\n",
              "      <td>0</td>\n",
              "      <td>1753161242</td>\n",
              "      <td>Sun May 10 00:22:53 PDT 2009</td>\n",
              "      <td>NO_QUERY</td>\n",
              "      <td>jennarathke</td>\n",
              "      <td>Last night at the 7207</td>\n",
              "    </tr>\n",
              "    <tr>\n",
              "      <th>13626</th>\n",
              "      <td>0</td>\n",
              "      <td>1553330429</td>\n",
              "      <td>Sat Apr 18 13:58:49 PDT 2009</td>\n",
              "      <td>NO_QUERY</td>\n",
              "      <td>XFaintheartedX</td>\n",
              "      <td>@iamjonathancook  Oh. Well, why would they do ...</td>\n",
              "    </tr>\n",
              "    <tr>\n",
              "      <th>86697</th>\n",
              "      <td>0</td>\n",
              "      <td>1754201008</td>\n",
              "      <td>Sun May 10 05:23:29 PDT 2009</td>\n",
              "      <td>NO_QUERY</td>\n",
              "      <td>alecrivera</td>\n",
              "      <td>will be sad from Tuesday (May 12, 2009) until ...</td>\n",
              "    </tr>\n",
              "    <tr>\n",
              "      <th>197273</th>\n",
              "      <td>0</td>\n",
              "      <td>1970967780</td>\n",
              "      <td>Sat May 30 05:49:04 PDT 2009</td>\n",
              "      <td>NO_QUERY</td>\n",
              "      <td>Elliethinks</td>\n",
              "      <td>@hayleycoll i was while i was showering but it...</td>\n",
              "    </tr>\n",
              "    <tr>\n",
              "      <th>161436</th>\n",
              "      <td>0</td>\n",
              "      <td>1957303737</td>\n",
              "      <td>Fri May 29 00:06:03 PDT 2009</td>\n",
              "      <td>NO_QUERY</td>\n",
              "      <td>AnniesBangkok</td>\n",
              "      <td>Today is going to be a normal day for I hope. ...</td>\n",
              "    </tr>\n",
              "  </tbody>\n",
              "</table>\n",
              "</div>\n",
              "      <button class=\"colab-df-convert\" onclick=\"convertToInteractive('df-b3cd6e40-e5ee-49a9-96f8-c23993e3b7b2')\"\n",
              "              title=\"Convert this dataframe to an interactive table.\"\n",
              "              style=\"display:none;\">\n",
              "        \n",
              "  <svg xmlns=\"http://www.w3.org/2000/svg\" height=\"24px\"viewBox=\"0 0 24 24\"\n",
              "       width=\"24px\">\n",
              "    <path d=\"M0 0h24v24H0V0z\" fill=\"none\"/>\n",
              "    <path d=\"M18.56 5.44l.94 2.06.94-2.06 2.06-.94-2.06-.94-.94-2.06-.94 2.06-2.06.94zm-11 1L8.5 8.5l.94-2.06 2.06-.94-2.06-.94L8.5 2.5l-.94 2.06-2.06.94zm10 10l.94 2.06.94-2.06 2.06-.94-2.06-.94-.94-2.06-.94 2.06-2.06.94z\"/><path d=\"M17.41 7.96l-1.37-1.37c-.4-.4-.92-.59-1.43-.59-.52 0-1.04.2-1.43.59L10.3 9.45l-7.72 7.72c-.78.78-.78 2.05 0 2.83L4 21.41c.39.39.9.59 1.41.59.51 0 1.02-.2 1.41-.59l7.78-7.78 2.81-2.81c.8-.78.8-2.07 0-2.86zM5.41 20L4 18.59l7.72-7.72 1.47 1.35L5.41 20z\"/>\n",
              "  </svg>\n",
              "      </button>\n",
              "      \n",
              "  <style>\n",
              "    .colab-df-container {\n",
              "      display:flex;\n",
              "      flex-wrap:wrap;\n",
              "      gap: 12px;\n",
              "    }\n",
              "\n",
              "    .colab-df-convert {\n",
              "      background-color: #E8F0FE;\n",
              "      border: none;\n",
              "      border-radius: 50%;\n",
              "      cursor: pointer;\n",
              "      display: none;\n",
              "      fill: #1967D2;\n",
              "      height: 32px;\n",
              "      padding: 0 0 0 0;\n",
              "      width: 32px;\n",
              "    }\n",
              "\n",
              "    .colab-df-convert:hover {\n",
              "      background-color: #E2EBFA;\n",
              "      box-shadow: 0px 1px 2px rgba(60, 64, 67, 0.3), 0px 1px 3px 1px rgba(60, 64, 67, 0.15);\n",
              "      fill: #174EA6;\n",
              "    }\n",
              "\n",
              "    [theme=dark] .colab-df-convert {\n",
              "      background-color: #3B4455;\n",
              "      fill: #D2E3FC;\n",
              "    }\n",
              "\n",
              "    [theme=dark] .colab-df-convert:hover {\n",
              "      background-color: #434B5C;\n",
              "      box-shadow: 0px 1px 3px 1px rgba(0, 0, 0, 0.15);\n",
              "      filter: drop-shadow(0px 1px 2px rgba(0, 0, 0, 0.3));\n",
              "      fill: #FFFFFF;\n",
              "    }\n",
              "  </style>\n",
              "\n",
              "      <script>\n",
              "        const buttonEl =\n",
              "          document.querySelector('#df-b3cd6e40-e5ee-49a9-96f8-c23993e3b7b2 button.colab-df-convert');\n",
              "        buttonEl.style.display =\n",
              "          google.colab.kernel.accessAllowed ? 'block' : 'none';\n",
              "\n",
              "        async function convertToInteractive(key) {\n",
              "          const element = document.querySelector('#df-b3cd6e40-e5ee-49a9-96f8-c23993e3b7b2');\n",
              "          const dataTable =\n",
              "            await google.colab.kernel.invokeFunction('convertToInteractive',\n",
              "                                                     [key], {});\n",
              "          if (!dataTable) return;\n",
              "\n",
              "          const docLinkHtml = 'Like what you see? Visit the ' +\n",
              "            '<a target=\"_blank\" href=https://colab.research.google.com/notebooks/data_table.ipynb>data table notebook</a>'\n",
              "            + ' to learn more about interactive tables.';\n",
              "          element.innerHTML = '';\n",
              "          dataTable['output_type'] = 'display_data';\n",
              "          await google.colab.output.renderOutput(dataTable, element);\n",
              "          const docLink = document.createElement('div');\n",
              "          docLink.innerHTML = docLinkHtml;\n",
              "          element.appendChild(docLink);\n",
              "        }\n",
              "      </script>\n",
              "    </div>\n",
              "  </div>\n",
              "  "
            ]
          },
          "metadata": {},
          "execution_count": 19
        }
      ],
      "source": [
        "# Importing the dataset\n",
        "data_columns=['target','ids','date','flag','user','text']\n",
        "data_encoding = \"ISO-8859-1\"\n",
        "data = pd.read_csv('/content/training.1600000.processed.noemoticon.csv', engine = 'python',encoding= data_encoding, names=data_columns, error_bad_lines=False)\n",
        "data.sample(5)"
      ]
    },
    {
      "cell_type": "code",
      "execution_count": null,
      "metadata": {
        "id": "fhUxbW2R6pxA",
        "colab": {
          "base_uri": "https://localhost:8080/",
          "height": 206
        },
        "outputId": "e0004c37-f004-4506-c81a-5d8fd4ec9d26"
      },
      "outputs": [
        {
          "output_type": "execute_result",
          "data": {
            "text/plain": [
              "   target         ids                          date      flag  \\\n",
              "0       0  1467810369  Mon Apr 06 22:19:45 PDT 2009  NO_QUERY   \n",
              "1       0  1467810672  Mon Apr 06 22:19:49 PDT 2009  NO_QUERY   \n",
              "2       0  1467810917  Mon Apr 06 22:19:53 PDT 2009  NO_QUERY   \n",
              "3       0  1467811184  Mon Apr 06 22:19:57 PDT 2009  NO_QUERY   \n",
              "4       0  1467811193  Mon Apr 06 22:19:57 PDT 2009  NO_QUERY   \n",
              "\n",
              "              user                                               text  \n",
              "0  _TheSpecialOne_  @switchfoot http://twitpic.com/2y1zl - Awww, t...  \n",
              "1    scotthamilton  is upset that he can't update his Facebook by ...  \n",
              "2         mattycus  @Kenichan I dived many times for the ball. Man...  \n",
              "3          ElleCTF    my whole body feels itchy and like its on fire   \n",
              "4           Karoli  @nationwideclass no, it's not behaving at all....  "
            ],
            "text/html": [
              "\n",
              "  <div id=\"df-62838277-f740-4b48-879b-92372bc8d7e4\">\n",
              "    <div class=\"colab-df-container\">\n",
              "      <div>\n",
              "<style scoped>\n",
              "    .dataframe tbody tr th:only-of-type {\n",
              "        vertical-align: middle;\n",
              "    }\n",
              "\n",
              "    .dataframe tbody tr th {\n",
              "        vertical-align: top;\n",
              "    }\n",
              "\n",
              "    .dataframe thead th {\n",
              "        text-align: right;\n",
              "    }\n",
              "</style>\n",
              "<table border=\"1\" class=\"dataframe\">\n",
              "  <thead>\n",
              "    <tr style=\"text-align: right;\">\n",
              "      <th></th>\n",
              "      <th>target</th>\n",
              "      <th>ids</th>\n",
              "      <th>date</th>\n",
              "      <th>flag</th>\n",
              "      <th>user</th>\n",
              "      <th>text</th>\n",
              "    </tr>\n",
              "  </thead>\n",
              "  <tbody>\n",
              "    <tr>\n",
              "      <th>0</th>\n",
              "      <td>0</td>\n",
              "      <td>1467810369</td>\n",
              "      <td>Mon Apr 06 22:19:45 PDT 2009</td>\n",
              "      <td>NO_QUERY</td>\n",
              "      <td>_TheSpecialOne_</td>\n",
              "      <td>@switchfoot http://twitpic.com/2y1zl - Awww, t...</td>\n",
              "    </tr>\n",
              "    <tr>\n",
              "      <th>1</th>\n",
              "      <td>0</td>\n",
              "      <td>1467810672</td>\n",
              "      <td>Mon Apr 06 22:19:49 PDT 2009</td>\n",
              "      <td>NO_QUERY</td>\n",
              "      <td>scotthamilton</td>\n",
              "      <td>is upset that he can't update his Facebook by ...</td>\n",
              "    </tr>\n",
              "    <tr>\n",
              "      <th>2</th>\n",
              "      <td>0</td>\n",
              "      <td>1467810917</td>\n",
              "      <td>Mon Apr 06 22:19:53 PDT 2009</td>\n",
              "      <td>NO_QUERY</td>\n",
              "      <td>mattycus</td>\n",
              "      <td>@Kenichan I dived many times for the ball. Man...</td>\n",
              "    </tr>\n",
              "    <tr>\n",
              "      <th>3</th>\n",
              "      <td>0</td>\n",
              "      <td>1467811184</td>\n",
              "      <td>Mon Apr 06 22:19:57 PDT 2009</td>\n",
              "      <td>NO_QUERY</td>\n",
              "      <td>ElleCTF</td>\n",
              "      <td>my whole body feels itchy and like its on fire</td>\n",
              "    </tr>\n",
              "    <tr>\n",
              "      <th>4</th>\n",
              "      <td>0</td>\n",
              "      <td>1467811193</td>\n",
              "      <td>Mon Apr 06 22:19:57 PDT 2009</td>\n",
              "      <td>NO_QUERY</td>\n",
              "      <td>Karoli</td>\n",
              "      <td>@nationwideclass no, it's not behaving at all....</td>\n",
              "    </tr>\n",
              "  </tbody>\n",
              "</table>\n",
              "</div>\n",
              "      <button class=\"colab-df-convert\" onclick=\"convertToInteractive('df-62838277-f740-4b48-879b-92372bc8d7e4')\"\n",
              "              title=\"Convert this dataframe to an interactive table.\"\n",
              "              style=\"display:none;\">\n",
              "        \n",
              "  <svg xmlns=\"http://www.w3.org/2000/svg\" height=\"24px\"viewBox=\"0 0 24 24\"\n",
              "       width=\"24px\">\n",
              "    <path d=\"M0 0h24v24H0V0z\" fill=\"none\"/>\n",
              "    <path d=\"M18.56 5.44l.94 2.06.94-2.06 2.06-.94-2.06-.94-.94-2.06-.94 2.06-2.06.94zm-11 1L8.5 8.5l.94-2.06 2.06-.94-2.06-.94L8.5 2.5l-.94 2.06-2.06.94zm10 10l.94 2.06.94-2.06 2.06-.94-2.06-.94-.94-2.06-.94 2.06-2.06.94z\"/><path d=\"M17.41 7.96l-1.37-1.37c-.4-.4-.92-.59-1.43-.59-.52 0-1.04.2-1.43.59L10.3 9.45l-7.72 7.72c-.78.78-.78 2.05 0 2.83L4 21.41c.39.39.9.59 1.41.59.51 0 1.02-.2 1.41-.59l7.78-7.78 2.81-2.81c.8-.78.8-2.07 0-2.86zM5.41 20L4 18.59l7.72-7.72 1.47 1.35L5.41 20z\"/>\n",
              "  </svg>\n",
              "      </button>\n",
              "      \n",
              "  <style>\n",
              "    .colab-df-container {\n",
              "      display:flex;\n",
              "      flex-wrap:wrap;\n",
              "      gap: 12px;\n",
              "    }\n",
              "\n",
              "    .colab-df-convert {\n",
              "      background-color: #E8F0FE;\n",
              "      border: none;\n",
              "      border-radius: 50%;\n",
              "      cursor: pointer;\n",
              "      display: none;\n",
              "      fill: #1967D2;\n",
              "      height: 32px;\n",
              "      padding: 0 0 0 0;\n",
              "      width: 32px;\n",
              "    }\n",
              "\n",
              "    .colab-df-convert:hover {\n",
              "      background-color: #E2EBFA;\n",
              "      box-shadow: 0px 1px 2px rgba(60, 64, 67, 0.3), 0px 1px 3px 1px rgba(60, 64, 67, 0.15);\n",
              "      fill: #174EA6;\n",
              "    }\n",
              "\n",
              "    [theme=dark] .colab-df-convert {\n",
              "      background-color: #3B4455;\n",
              "      fill: #D2E3FC;\n",
              "    }\n",
              "\n",
              "    [theme=dark] .colab-df-convert:hover {\n",
              "      background-color: #434B5C;\n",
              "      box-shadow: 0px 1px 3px 1px rgba(0, 0, 0, 0.15);\n",
              "      filter: drop-shadow(0px 1px 2px rgba(0, 0, 0, 0.3));\n",
              "      fill: #FFFFFF;\n",
              "    }\n",
              "  </style>\n",
              "\n",
              "      <script>\n",
              "        const buttonEl =\n",
              "          document.querySelector('#df-62838277-f740-4b48-879b-92372bc8d7e4 button.colab-df-convert');\n",
              "        buttonEl.style.display =\n",
              "          google.colab.kernel.accessAllowed ? 'block' : 'none';\n",
              "\n",
              "        async function convertToInteractive(key) {\n",
              "          const element = document.querySelector('#df-62838277-f740-4b48-879b-92372bc8d7e4');\n",
              "          const dataTable =\n",
              "            await google.colab.kernel.invokeFunction('convertToInteractive',\n",
              "                                                     [key], {});\n",
              "          if (!dataTable) return;\n",
              "\n",
              "          const docLinkHtml = 'Like what you see? Visit the ' +\n",
              "            '<a target=\"_blank\" href=https://colab.research.google.com/notebooks/data_table.ipynb>data table notebook</a>'\n",
              "            + ' to learn more about interactive tables.';\n",
              "          element.innerHTML = '';\n",
              "          dataTable['output_type'] = 'display_data';\n",
              "          await google.colab.output.renderOutput(dataTable, element);\n",
              "          const docLink = document.createElement('div');\n",
              "          docLink.innerHTML = docLinkHtml;\n",
              "          element.appendChild(docLink);\n",
              "        }\n",
              "      </script>\n",
              "    </div>\n",
              "  </div>\n",
              "  "
            ]
          },
          "metadata": {},
          "execution_count": 20
        }
      ],
      "source": [
        "#STEP 2\n",
        "#EXPLORATORY DATA ANALYSIS\n",
        "\n",
        "#2.1 five top records of data (can be altered accordingly)\n",
        "#head() returns the first 5 rows if a number is not specified\n",
        "data.head()"
      ]
    },
    {
      "cell_type": "code",
      "execution_count": null,
      "metadata": {
        "id": "gs3CzKI69gP6",
        "colab": {
          "base_uri": "https://localhost:8080/"
        },
        "outputId": "6465ed82-cec5-426b-a2a4-f759b19633f5"
      },
      "outputs": [
        {
          "output_type": "execute_result",
          "data": {
            "text/plain": [
              "Index(['target', 'ids', 'date', 'flag', 'user', 'text'], dtype='object')"
            ]
          },
          "metadata": {},
          "execution_count": 21
        }
      ],
      "source": [
        "#2.2 columns/features in data\n",
        "data. columns #returns the label of each column in the dataframe"
      ]
    },
    {
      "cell_type": "code",
      "execution_count": null,
      "metadata": {
        "id": "WuLg90q99kBS",
        "colab": {
          "base_uri": "https://localhost:8080/"
        },
        "outputId": "b24102cd-9c8f-4f33-c7d1-8bade0161963"
      },
      "outputs": [
        {
          "output_type": "stream",
          "name": "stdout",
          "text": [
            "length of the data is 226860\n"
          ]
        }
      ],
      "source": [
        "#2.3 length of the dataset\n",
        "print('length of the data is', len(data))"
      ]
    },
    {
      "cell_type": "code",
      "execution_count": null,
      "metadata": {
        "id": "5YFuBB1I9ngW",
        "colab": {
          "base_uri": "https://localhost:8080/"
        },
        "outputId": "9ccc8440-6774-4596-b93a-eeeb9cba3056"
      },
      "outputs": [
        {
          "output_type": "execute_result",
          "data": {
            "text/plain": [
              "(226860, 6)"
            ]
          },
          "metadata": {},
          "execution_count": 23
        }
      ],
      "source": [
        "#2.4 shape of dataset\n",
        "data.shape\n",
        "#used to get the current shape of an array\n",
        "#611831 rows and 6 columns"
      ]
    },
    {
      "cell_type": "code",
      "execution_count": null,
      "metadata": {
        "id": "45xMonz09qVW",
        "colab": {
          "base_uri": "https://localhost:8080/"
        },
        "outputId": "21f4edc3-50bc-4fe3-94b9-8c1f0fb6ba6c"
      },
      "outputs": [
        {
          "output_type": "stream",
          "name": "stdout",
          "text": [
            "<class 'pandas.core.frame.DataFrame'>\n",
            "RangeIndex: 226860 entries, 0 to 226859\n",
            "Data columns (total 6 columns):\n",
            " #   Column  Non-Null Count   Dtype \n",
            "---  ------  --------------   ----- \n",
            " 0   target  226860 non-null  int64 \n",
            " 1   ids     226860 non-null  int64 \n",
            " 2   date    226860 non-null  object\n",
            " 3   flag    226859 non-null  object\n",
            " 4   user    226859 non-null  object\n",
            " 5   text    226859 non-null  object\n",
            "dtypes: int64(2), object(4)\n",
            "memory usage: 10.4+ MB\n"
          ]
        }
      ],
      "source": [
        "#2.5 data information\n",
        "data.info()"
      ]
    },
    {
      "cell_type": "code",
      "execution_count": null,
      "metadata": {
        "id": "74Ot0saz-CuH",
        "colab": {
          "base_uri": "https://localhost:8080/"
        },
        "outputId": "af983a78-f529-417b-89e5-7d084a0bec97"
      },
      "outputs": [
        {
          "output_type": "execute_result",
          "data": {
            "text/plain": [
              "target     int64\n",
              "ids        int64\n",
              "date      object\n",
              "flag      object\n",
              "user      object\n",
              "text      object\n",
              "dtype: object"
            ]
          },
          "metadata": {},
          "execution_count": 25
        }
      ],
      "source": [
        "#2.6 datatype of all columns\n",
        "data.dtypes\n"
      ]
    },
    {
      "cell_type": "code",
      "execution_count": null,
      "metadata": {
        "id": "OHzYnbuy-FW0",
        "colab": {
          "base_uri": "https://localhost:8080/"
        },
        "outputId": "4dd111db-d0f7-48e3-91eb-d1acc3db56b7"
      },
      "outputs": [
        {
          "output_type": "execute_result",
          "data": {
            "text/plain": [
              "1"
            ]
          },
          "metadata": {},
          "execution_count": 28
        }
      ],
      "source": [
        "#2.7 checking for null values\n",
        "np.sum(data.isnull().any(axis=1)) #no of null values in columns"
      ]
    },
    {
      "cell_type": "code",
      "source": [
        "newdata = data.dropna()"
      ],
      "metadata": {
        "id": "X7pBtKByTP_S"
      },
      "execution_count": null,
      "outputs": []
    },
    {
      "cell_type": "code",
      "execution_count": null,
      "metadata": {
        "id": "NV7Agu3R-aeh",
        "colab": {
          "base_uri": "https://localhost:8080/"
        },
        "outputId": "45b99fc2-4bb9-4f22-e8c8-0d79e449ec88"
      },
      "outputs": [
        {
          "output_type": "stream",
          "name": "stdout",
          "text": [
            "Count of columns in the data is:   6\n",
            "Count of rows in the data is:   226859\n"
          ]
        }
      ],
      "source": [
        "#2.8 rows and columns in the dataset\n",
        "print('Count of columns in the data is:  ', len(newdata.columns))\n",
        "print('Count of rows in the data is:  ', len(newdata))"
      ]
    },
    {
      "cell_type": "code",
      "execution_count": null,
      "metadata": {
        "id": "jo14Sii_-v4D",
        "colab": {
          "base_uri": "https://localhost:8080/"
        },
        "outputId": "6814a567-088f-469a-e7ea-36e7080273fa"
      },
      "outputs": [
        {
          "output_type": "execute_result",
          "data": {
            "text/plain": [
              "array([0, 4])"
            ]
          },
          "metadata": {},
          "execution_count": 31
        }
      ],
      "source": [
        "#2.9 checking unique target values\n",
        "newdata['target'].unique()"
      ]
    },
    {
      "cell_type": "code",
      "execution_count": null,
      "metadata": {
        "id": "gccJMwPsUWV8",
        "colab": {
          "base_uri": "https://localhost:8080/"
        },
        "outputId": "7b2a3833-6fd5-4a2f-998e-76f588228669"
      },
      "outputs": [
        {
          "output_type": "execute_result",
          "data": {
            "text/plain": [
              "2"
            ]
          },
          "metadata": {},
          "execution_count": 32
        }
      ],
      "source": [
        "newdata['target'].nunique() #no of unique values"
      ]
    },
    {
      "cell_type": "code",
      "source": [
        "#3 DATA PREPARATION\n",
        "\n",
        "newdata=newdata[['text','target']]\n"
      ],
      "metadata": {
        "id": "m5szrgHcO2ue"
      },
      "execution_count": null,
      "outputs": []
    },
    {
      "cell_type": "code",
      "source": [
        "newdata_pos = newdata[newdata['target']==1]\n",
        "newdata_neg = newdata[newdata['target']==0]"
      ],
      "metadata": {
        "id": "WkwpHEWRTl45"
      },
      "execution_count": null,
      "outputs": []
    },
    {
      "cell_type": "code",
      "source": [
        "#taking 1/4th data\n",
        "#for ease of running it in the machine\n",
        "\n",
        "newdata_pos = newdata_pos.iloc[:int(20000)]\n",
        "newdata_neg = newdata_neg.iloc[:int(20000)]\n"
      ],
      "metadata": {
        "id": "NRmFeKdiTz2W"
      },
      "execution_count": null,
      "outputs": []
    },
    {
      "cell_type": "code",
      "source": [
        "#combining positive and negative tweets\n",
        "newdata = pd.concat([newdata_pos, newdata_neg])"
      ],
      "metadata": {
        "id": "y2MJ9xVGUak5"
      },
      "execution_count": null,
      "outputs": []
    },
    {
      "cell_type": "code",
      "source": [
        "newdata['text'] = newdata['text'].str.lower()"
      ],
      "metadata": {
        "id": "opZntsPjUml5"
      },
      "execution_count": null,
      "outputs": []
    },
    {
      "cell_type": "code",
      "source": [
        "newdata['text'].tail()"
      ],
      "metadata": {
        "colab": {
          "base_uri": "https://localhost:8080/"
        },
        "id": "JfqrCSdqUvb8",
        "outputId": "f7f9ddf9-91eb-4350-f124-222e136d8a78"
      },
      "execution_count": null,
      "outputs": [
        {
          "output_type": "execute_result",
          "data": {
            "text/plain": [
              "19995    not much time off this weekend, work trip to m...\n",
              "19996                            one more day of holidays \n",
              "19997    feeling so down right now .. i hate you damn h...\n",
              "19998    geez,i hv to read the whole book of personalit...\n",
              "19999    i threw my sign at donnie and he bent over to ...\n",
              "Name: text, dtype: object"
            ]
          },
          "metadata": {},
          "execution_count": 39
        },
        {
          "output_type": "execute_result",
          "data": {
            "text/plain": [
              "19995    not much time off this weekend, work trip to m...\n",
              "19996                            one more day of holidays \n",
              "19997    feeling so down right now .. i hate you damn h...\n",
              "19998    geez,i hv to read the whole book of personalit...\n",
              "19999    i threw my sign at donnie and he bent over to ...\n",
              "Name: text, dtype: object"
            ]
          },
          "metadata": {},
          "execution_count": 40
        }
      ]
    },
    {
      "cell_type": "code",
      "source": [
        "import nltk\n",
        "nltk.download('stopwords')\n",
        "\n"
      ],
      "metadata": {
        "colab": {
          "base_uri": "https://localhost:8080/"
        },
        "id": "QSPIq2GyVRjC",
        "outputId": "9ef9e215-9a15-42dc-bfff-e9feae28213d"
      },
      "execution_count": null,
      "outputs": [
        {
          "output_type": "stream",
          "name": "stderr",
          "text": [
            "[nltk_data] Downloading package stopwords to /root/nltk_data...\n",
            "[nltk_data]   Package stopwords is already up-to-date!\n"
          ]
        },
        {
          "output_type": "execute_result",
          "data": {
            "text/plain": [
              "True"
            ]
          },
          "metadata": {},
          "execution_count": 45
        }
      ]
    },
    {
      "cell_type": "code",
      "source": [
        "stopwords_list = stopwords.words('english')\n"
      ],
      "metadata": {
        "id": "6xiqbs4QWBcT"
      },
      "execution_count": null,
      "outputs": []
    },
    {
      "cell_type": "code",
      "source": [
        "from nltk.corpus import stopwords\n",
        "\", \".join(stopwords.words('english'))"
      ],
      "metadata": {
        "colab": {
          "base_uri": "https://localhost:8080/",
          "height": 123
        },
        "id": "fZURTTHkWFyp",
        "outputId": "362adfc1-d2e4-47aa-c490-4757c9b6e7f7"
      },
      "execution_count": null,
      "outputs": [
        {
          "output_type": "execute_result",
          "data": {
            "text/plain": [
              "\"i, me, my, myself, we, our, ours, ourselves, you, you're, you've, you'll, you'd, your, yours, yourself, yourselves, he, him, his, himself, she, she's, her, hers, herself, it, it's, its, itself, they, them, their, theirs, themselves, what, which, who, whom, this, that, that'll, these, those, am, is, are, was, were, be, been, being, have, has, had, having, do, does, did, doing, a, an, the, and, but, if, or, because, as, until, while, of, at, by, for, with, about, against, between, into, through, during, before, after, above, below, to, from, up, down, in, out, on, off, over, under, again, further, then, once, here, there, when, where, why, how, all, any, both, each, few, more, most, other, some, such, no, nor, not, only, own, same, so, than, too, very, s, t, can, will, just, don, don't, should, should've, now, d, ll, m, o, re, ve, y, ain, aren, aren't, couldn, couldn't, didn, didn't, doesn, doesn't, hadn, hadn't, hasn, hasn't, haven, haven't, isn, isn't, ma, mightn, mightn't, mustn, mustn't, needn, needn't, shan, shan't, shouldn, shouldn't, wasn, wasn't, weren, weren't, won, won't, wouldn, wouldn't\""
            ],
            "application/vnd.google.colaboratory.intrinsic+json": {
              "type": "string"
            }
          },
          "metadata": {},
          "execution_count": 47
        }
      ]
    },
    {
      "cell_type": "code",
      "source": [
        "#cleaning and removing stop words from tweets\n",
        "STOPWORDS = set(stopwords.words('english'))\n",
        "def cleaning_stopwords(text):\n",
        "    return \" \".join([word for word in str(text).split() if word not in STOPWORDS])\n",
        "newdata['text'] = newdata['text'].apply(lambda text: cleaning_stopwords(text))\n",
        "newdata['text'].head()"
      ],
      "metadata": {
        "colab": {
          "base_uri": "https://localhost:8080/"
        },
        "id": "DIrSNva_WIYw",
        "outputId": "90dfb1b0-9a80-4811-bb6e-9ffda158542a"
      },
      "execution_count": null,
      "outputs": [
        {
          "output_type": "execute_result",
          "data": {
            "text/plain": [
              "0    @switchfoot http://twitpic.com/2y1zl - awww, t...\n",
              "1    upset can't update facebook texting it... migh...\n",
              "2    @kenichan dived many times ball. managed save ...\n",
              "3                     whole body feels itchy like fire\n",
              "4    @nationwideclass no, behaving all. i'm mad. he...\n",
              "Name: text, dtype: object"
            ]
          },
          "metadata": {},
          "execution_count": 49
        }
      ]
    },
    {
      "cell_type": "code",
      "source": [
        "#cleaning and removing punctuations\n",
        "import string\n",
        "english_punctuations = string.punctuation\n",
        "punctuations_list = english_punctuations\n",
        "def cleaning_punctuations(text):\n",
        "    translator = str.maketrans('', '', punctuations_list)\n",
        "    return text.translate(translator)\n",
        "\n",
        "newdata['text']= newdata['text'].apply(lambda x: cleaning_punctuations(x))\n",
        "newdata['text'].tail()"
      ],
      "metadata": {
        "colab": {
          "base_uri": "https://localhost:8080/"
        },
        "id": "ncwk4n9mWVpU",
        "outputId": "882b5c20-f970-415f-ca9a-25d025dc560a"
      },
      "execution_count": null,
      "outputs": [
        {
          "output_type": "execute_result",
          "data": {
            "text/plain": [
              "19995    much time weekend work trip malmï¿½ frisat tod...\n",
              "19996                                     one day holidays\n",
              "19997                     feeling right  hate damn humprey\n",
              "19998    geezi hv read whole book personality types emb...\n",
              "19999     threw sign donnie bent get thingee made sad face\n",
              "Name: text, dtype: object"
            ]
          },
          "metadata": {},
          "execution_count": 52
        }
      ]
    },
    {
      "cell_type": "code",
      "source": [
        "#cleaning and removing reccurring chars\n",
        "def cleaning_repeating_char(text):\n",
        "    return re.sub(r'(.)\\1+', r'\\1', text)\n",
        "newdata['text'] = newdata['text'].apply(lambda x: cleaning_repeating_char(x))\n",
        "newdata['text'].tail()"
      ],
      "metadata": {
        "colab": {
          "base_uri": "https://localhost:8080/"
        },
        "id": "vH2ryhNTXXpZ",
        "outputId": "49a9fea6-e522-46d8-82df-6070c4046206"
      },
      "execution_count": null,
      "outputs": [
        {
          "output_type": "execute_result",
          "data": {
            "text/plain": [
              "19995    much time wekend work trip malmï¿½ frisat toda...\n",
              "19996                                     one day holidays\n",
              "19997                       feling right hate damn humprey\n",
              "19998    gezi hv read whole bok personality types embar...\n",
              "19999       threw sign donie bent get thinge made sad face\n",
              "Name: text, dtype: object"
            ]
          },
          "metadata": {},
          "execution_count": 53
        }
      ]
    },
    {
      "cell_type": "code",
      "source": [
        "def cleaning_URLs(newdata):\n",
        "    return re.sub('((www\\.[^\\s]+)|(https?://[^\\s]+))',' ',newdata)\n"
      ],
      "metadata": {
        "id": "ocpDtAdqXkp0"
      },
      "execution_count": null,
      "outputs": []
    },
    {
      "cell_type": "code",
      "source": [
        "newdata['text'] = newdata['text'].apply(lambda x: cleaning_URLs(x))\n",
        "newdata['text'].tail()"
      ],
      "metadata": {
        "colab": {
          "base_uri": "https://localhost:8080/"
        },
        "id": "5xMe58YuYRXB",
        "outputId": "3d0682bb-ddad-4412-f5df-6f4f1fc588e5"
      },
      "execution_count": null,
      "outputs": [
        {
          "output_type": "execute_result",
          "data": {
            "text/plain": [
              "19995    much time wekend work trip malmï¿½ frisat toda...\n",
              "19996                                     one day holidays\n",
              "19997                       feling right hate damn humprey\n",
              "19998    gezi hv read whole bok personality types embar...\n",
              "19999       threw sign donie bent get thinge made sad face\n",
              "Name: text, dtype: object"
            ]
          },
          "metadata": {},
          "execution_count": 61
        }
      ]
    },
    {
      "cell_type": "code",
      "source": [
        "def cleaning_numbers(newdata):\n",
        "    return re.sub('[0-9]+', '', newdata)\n"
      ],
      "metadata": {
        "id": "wBlHQx9kYifX"
      },
      "execution_count": null,
      "outputs": []
    },
    {
      "cell_type": "code",
      "source": [
        "newdata['text'] = newdata['text'].apply(lambda x: cleaning_numbers(x))\n",
        "newdata['text'].tail()"
      ],
      "metadata": {
        "colab": {
          "base_uri": "https://localhost:8080/"
        },
        "id": "mpsMSejjY_on",
        "outputId": "24c95a39-88bd-424e-d872-448bb058cf9a"
      },
      "execution_count": null,
      "outputs": [
        {
          "output_type": "execute_result",
          "data": {
            "text/plain": [
              "19995    much time wekend work trip malmï¿½ frisat toda...\n",
              "19996                                     one day holidays\n",
              "19997                       feling right hate damn humprey\n",
              "19998    gezi hv read whole bok personality types embar...\n",
              "19999       threw sign donie bent get thinge made sad face\n",
              "Name: text, dtype: object"
            ]
          },
          "metadata": {},
          "execution_count": 63
        }
      ]
    },
    {
      "cell_type": "code",
      "source": [
        "#TOKENIZATION OF TWEET TEXT\n",
        "\n",
        "from nltk.tokenize import RegexpTokenizer\n",
        "tokenizer = RegexpTokenizer(r'\\w+')\n",
        "newdata['text'] = newdata['text'].apply(tokenizer.tokenize)\n",
        "newdata['text'].head()"
      ],
      "metadata": {
        "id": "sCnwzCyNZEW8"
      },
      "execution_count": null,
      "outputs": []
    },
    {
      "cell_type": "code",
      "source": [
        "st = nltk.PorterStemmer()\n",
        "def stemming_on_text(newdata):\n",
        "    text = [st.stem(word) for word in newdata]\n",
        "    return newdata\n",
        "\n",
        "newdata['text']= newdata['text'].apply(lambda x: stemming_on_text(x))\n",
        "\n",
        "newdata['text'].head()\n"
      ],
      "metadata": {
        "colab": {
          "base_uri": "https://localhost:8080/"
        },
        "id": "maWkLmN5aLJ0",
        "outputId": "e57277a1-bd97-456a-9722-82d2f6b50d43"
      },
      "execution_count": null,
      "outputs": [
        {
          "output_type": "execute_result",
          "data": {
            "text/plain": [
              "0    [switchfot, htptwitpicomyzl, aw, thats, bumer,...\n",
              "1    [upset, cant, update, facebok, texting, it, mi...\n",
              "2    [kenichan, dived, many, times, bal, managed, s...\n",
              "3               [whole, body, fels, itchy, like, fire]\n",
              "4    [nationwideclas, no, behaving, al, im, mad, he...\n",
              "Name: text, dtype: object"
            ]
          },
          "metadata": {},
          "execution_count": 88
        }
      ]
    },
    {
      "cell_type": "code",
      "source": [
        "  >>> import nltk\n",
        "  >>> nltk.download('wordnet')\n",
        "\n",
        "\n",
        "lm = nltk.WordNetLemmatizer()\n",
        "def lemmatizer_on_text(newdata):\n",
        "    text = [lm.lemmatize(word) for word in newdata]\n",
        "    return newdata\n",
        "\n",
        "newdata['text'] = newdata['text'].apply(lambda x: lemmatizer_on_text(x))"
      ],
      "metadata": {
        "colab": {
          "base_uri": "https://localhost:8080/"
        },
        "id": "M8WOFqihc965",
        "outputId": "8f1901b9-79f3-4a12-e94c-abdb61836e8a"
      },
      "execution_count": null,
      "outputs": [
        {
          "output_type": "stream",
          "name": "stderr",
          "text": [
            "[nltk_data] Downloading package wordnet to /root/nltk_data...\n"
          ]
        }
      ]
    },
    {
      "cell_type": "code",
      "source": [
        "newdata['text'].head()\n"
      ],
      "metadata": {
        "colab": {
          "base_uri": "https://localhost:8080/"
        },
        "id": "0QnQfjgvdjPH",
        "outputId": "d88409c4-1b6b-4bdf-f2e7-529275d8a309"
      },
      "execution_count": null,
      "outputs": [
        {
          "output_type": "execute_result",
          "data": {
            "text/plain": [
              "0    [switchfot, htptwitpicomyzl, aw, thats, bumer,...\n",
              "1    [upset, cant, update, facebok, texting, it, mi...\n",
              "2    [kenichan, dived, many, times, bal, managed, s...\n",
              "3               [whole, body, fels, itchy, like, fire]\n",
              "4    [nationwideclas, no, behaving, al, im, mad, he...\n",
              "Name: text, dtype: object"
            ]
          },
          "metadata": {},
          "execution_count": 92
        }
      ]
    },
    {
      "cell_type": "code",
      "source": [
        "#separating input and label\n",
        "\n",
        "X=newdata.text\n",
        "y=newdata.target"
      ],
      "metadata": {
        "id": "NSkq9MDod7ZA"
      },
      "execution_count": null,
      "outputs": []
    },
    {
      "cell_type": "code",
      "source": [
        "#Preparing the input features for training\n",
        "\n",
        "max_len = 500\n",
        "tok = Tokenizer(num_words=2000)\n",
        "tok.fit_on_texts(X)\n",
        "sequences = tok.texts_to_sequences(X)\n",
        "sequences_matrix = sequence.pad_sequences(sequences,maxlen=max_len)"
      ],
      "metadata": {
        "id": "eArW212LeCGj"
      },
      "execution_count": null,
      "outputs": []
    },
    {
      "cell_type": "code",
      "source": [
        "sequences_matrix.shape\n"
      ],
      "metadata": {
        "colab": {
          "base_uri": "https://localhost:8080/"
        },
        "id": "JD9lNfbGeGSC",
        "outputId": "c142f769-7bea-4d54-b0fb-528528abf594"
      },
      "execution_count": null,
      "outputs": [
        {
          "output_type": "execute_result",
          "data": {
            "text/plain": [
              "(20000, 500)"
            ]
          },
          "metadata": {},
          "execution_count": 96
        }
      ]
    },
    {
      "cell_type": "code",
      "source": [
        "#Separating the 70% data for training data and 30% for testing data\n",
        "\n",
        "X_train, X_test, Y_train, Y_test = train_test_split(sequences_matrix, y, test_size=0.3, random_state=2)\n"
      ],
      "metadata": {
        "id": "YVBEcVBGeJ7s"
      },
      "execution_count": null,
      "outputs": []
    },
    {
      "cell_type": "code",
      "source": [
        "#TRAINING THE MODEL\n",
        "#using Tensorflow based model\n",
        "\n",
        "def tensorflow_based_model(): #Defined tensorflow_based_model function for training tenforflow based model\n",
        "    inputs = Input(name='inputs',shape=[max_len])#step1\n",
        "    layer = Embedding(2000,50,input_length=max_len)(inputs) #step2\n",
        "    layer = LSTM(64)(layer) #step3\n",
        "    layer = Dense(256,name='FC1')(layer) #step4\n",
        "    layer = Activation('relu')(layer) # step5\n",
        "    layer = Dropout(0.5)(layer) # step6\n",
        "    layer = Dense(1,name='out_layer')(layer) #step4 again but this time its giving only one output as because we need to classify the tweet as positive or negative\n",
        "    layer = Activation('sigmoid')(layer) #step5 but this time activation function is sigmoid for only one output.\n",
        "    model = Model(inputs=inputs,outputs=layer) #here we are getting the final output value in the model for classification\n",
        "    return model #function returning the value when we call it"
      ],
      "metadata": {
        "id": "gaWRF5SYePLx"
      },
      "execution_count": null,
      "outputs": []
    },
    {
      "cell_type": "code",
      "source": [
        "#MODEL BUILDING\n",
        "\n",
        "#calling the model\n",
        "#using 2 classes hence using \"binary_crossentropy\"\n",
        "#if we use more than two classes then we use \"categorical_crossentropy\"\n",
        "#Optimizer is a function that used to change the features of neural network such as learning rate (how the model learn with features)\n",
        "#in order to reduce the losses.\n",
        "#We are setting metrics=accuracy\n",
        "#because we are going to caluclate the percentage of correct predictions over all predictions on the validation set\n",
        "\n",
        "model = tensorflow_based_model() # here we are calling the function of created model\n",
        "model.compile(loss='binary_crossentropy',optimizer=RMSprop(),metrics=['accuracy'])\n"
      ],
      "metadata": {
        "id": "kfgCYdvPeTZC"
      },
      "execution_count": null,
      "outputs": []
    },
    {
      "cell_type": "code",
      "source": [
        "#feeding the training data\n",
        "#by set the following parameters:\n",
        "#Batch size =80\n",
        "#so the model take 80 tweets in each iteration and train them.\n",
        "#Batch size is a term used in machine learning and refers to the number of training examples utilized in one iteration.\n",
        "#Epochs =6 so the model will train on the data 6 times.\n",
        "#Epoch is a term used in machine learning and indicates the number of passes of the entire training dataset the machine learning algorithm has completed.\n",
        "#We can choose batch_size, and epochs as we want\n",
        "# if the model will not give the good results we can change it and then try again for the training of the model."
      ],
      "metadata": {
        "id": "xKAeEsNghFz0"
      },
      "execution_count": null,
      "outputs": []
    },
    {
      "cell_type": "code",
      "source": [
        "history=model.fit(X_train,Y_train,batch_size=80,epochs=6, validation_split=0.1)# here we are starting the training of model by feeding the training data\n",
        "print('Training finished !!')"
      ],
      "metadata": {
        "colab": {
          "base_uri": "https://localhost:8080/"
        },
        "id": "uie3BzgseWQ4",
        "outputId": "c7ff58fb-28fe-4f51-e4ca-2748245852db"
      },
      "execution_count": null,
      "outputs": [
        {
          "output_type": "stream",
          "name": "stdout",
          "text": [
            "Epoch 1/6\n",
            "158/158 [==============================] - 87s 526ms/step - loss: 0.0257 - accuracy: 0.9951 - val_loss: 1.2491e-05 - val_accuracy: 1.0000\n",
            "Epoch 2/6\n",
            "158/158 [==============================] - 86s 544ms/step - loss: 1.7731e-05 - accuracy: 1.0000 - val_loss: 3.8561e-06 - val_accuracy: 1.0000\n",
            "Epoch 3/6\n",
            "158/158 [==============================] - 77s 485ms/step - loss: 8.6365e-06 - accuracy: 1.0000 - val_loss: 2.1086e-06 - val_accuracy: 1.0000\n",
            "Epoch 4/6\n",
            "158/158 [==============================] - 80s 505ms/step - loss: 5.7414e-06 - accuracy: 1.0000 - val_loss: 1.3938e-06 - val_accuracy: 1.0000\n",
            "Epoch 5/6\n",
            "158/158 [==============================] - 77s 487ms/step - loss: 4.0088e-06 - accuracy: 1.0000 - val_loss: 1.0334e-06 - val_accuracy: 1.0000\n",
            "Epoch 6/6\n",
            "158/158 [==============================] - 80s 505ms/step - loss: 3.4219e-06 - accuracy: 1.0000 - val_loss: 8.0103e-07 - val_accuracy: 1.0000\n",
            "Training finished !!\n"
          ]
        }
      ]
    },
    {
      "cell_type": "code",
      "source": [
        "#Testing the Trained model on test data\n",
        "#Getting predictions/classifying the sentiments (positve/negative) on the test data using trained model.\n",
        "\n",
        "accr1 = model.evaluate(X_test,Y_test) #we are starting to test the model here\n"
      ],
      "metadata": {
        "colab": {
          "base_uri": "https://localhost:8080/"
        },
        "id": "a8QUiyl7eizh",
        "outputId": "df4276ec-ce93-4612-924e-618d6421e146"
      },
      "execution_count": null,
      "outputs": [
        {
          "output_type": "stream",
          "name": "stdout",
          "text": [
            "188/188 [==============================] - 16s 83ms/step - loss: 8.0106e-07 - accuracy: 1.0000\n"
          ]
        }
      ]
    },
    {
      "cell_type": "code",
      "source": [
        "#Accuracy is the number of correctly classify tweets from all the tweets of positive and negative.\n",
        "\n",
        "print('Test set\\n  Accuracy: {:0.2f}'.format(accr1[1])) #the accuracy of the model on test data is given below"
      ],
      "metadata": {
        "colab": {
          "base_uri": "https://localhost:8080/"
        },
        "id": "NgEfQBKJggMm",
        "outputId": "f8a3ba1d-8c9e-4e9b-ca7a-bfb6fb3b8098"
      },
      "execution_count": null,
      "outputs": [
        {
          "output_type": "stream",
          "name": "stdout",
          "text": [
            "Test set\n",
            "  Accuracy: 1.00\n"
          ]
        }
      ]
    },
    {
      "cell_type": "code",
      "source": [],
      "metadata": {
        "id": "X-R7KsiVgrbf"
      },
      "execution_count": null,
      "outputs": []
    }
  ],
  "metadata": {
    "colab": {
      "provenance": [],
      "include_colab_link": true
    },
    "kernelspec": {
      "display_name": "Python 3",
      "name": "python3"
    },
    "language_info": {
      "name": "python"
    }
  },
  "nbformat": 4,
  "nbformat_minor": 0
}